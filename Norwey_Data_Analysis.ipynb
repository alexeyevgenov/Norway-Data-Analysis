{
 "cells": [
  {
   "cell_type": "markdown",
   "metadata": {
    "id": "Qq87DI_4Z-UZ"
   },
   "source": [
    "First of all let's look at the data we have. This will help as to estimate what methods we will use for model implementation."
   ]
  },
  {
   "cell_type": "code",
   "execution_count": 1,
   "metadata": {
    "id": "58uJiTI1AOKD"
   },
   "outputs": [],
   "source": [
    "import pandas as pd \n",
    "import numpy as np\n",
    "import seaborn as sns\n",
    "import missingno as msno\n",
    "from matplotlib import pyplot as plt\n",
    "from sklearn import preprocessing\n",
    "from sklearn.model_selection import train_test_split"
   ]
  },
  {
   "cell_type": "code",
   "execution_count": 2,
   "metadata": {
    "id": "kGLGYw6XCS2N"
   },
   "outputs": [],
   "source": [
    "from matplotlib import rcParams\n",
    "\n",
    "# figure size in inches\n",
    "rcParams['figure.figsize'] = 15,12"
   ]
  },
  {
   "cell_type": "code",
   "execution_count": 3,
   "metadata": {
    "colab": {
     "base_uri": "https://localhost:8080/"
    },
    "id": "VTperjLmKD72",
    "outputId": "726a2db1-70e1-47f6-8401-b42cc6f62b18"
   },
   "outputs": [],
   "source": [
    "#from google.colab import drive\n",
    "#drive.mount('drive')"
   ]
  },
  {
   "cell_type": "code",
   "execution_count": 4,
   "metadata": {
    "colab": {
     "base_uri": "https://localhost:8080/",
     "height": 661
    },
    "id": "ZMndkF_qCTAL",
    "outputId": "880c2f42-8fa6-4ab0-e3f2-b43afcdcdfd1"
   },
   "outputs": [
    {
     "data": {
      "text/html": [
       "<div>\n",
       "<style scoped>\n",
       "    .dataframe tbody tr th:only-of-type {\n",
       "        vertical-align: middle;\n",
       "    }\n",
       "\n",
       "    .dataframe tbody tr th {\n",
       "        vertical-align: top;\n",
       "    }\n",
       "\n",
       "    .dataframe thead th {\n",
       "        text-align: right;\n",
       "    }\n",
       "</style>\n",
       "<table border=\"1\" class=\"dataframe\">\n",
       "  <thead>\n",
       "    <tr style=\"text-align: right;\">\n",
       "      <th></th>\n",
       "      <th>WELL</th>\n",
       "      <th>DEPTH_MD</th>\n",
       "      <th>X_LOC</th>\n",
       "      <th>Y_LOC</th>\n",
       "      <th>Z_LOC</th>\n",
       "      <th>GROUP</th>\n",
       "      <th>FORMATION</th>\n",
       "      <th>CALI</th>\n",
       "      <th>RSHA</th>\n",
       "      <th>RMED</th>\n",
       "      <th>...</th>\n",
       "      <th>ROP</th>\n",
       "      <th>DTS</th>\n",
       "      <th>DCAL</th>\n",
       "      <th>DRHO</th>\n",
       "      <th>MUDWEIGHT</th>\n",
       "      <th>RMIC</th>\n",
       "      <th>ROPA</th>\n",
       "      <th>RXO</th>\n",
       "      <th>FORCE_2020_LITHOFACIES_LITHOLOGY</th>\n",
       "      <th>FORCE_2020_LITHOFACIES_CONFIDENCE</th>\n",
       "    </tr>\n",
       "  </thead>\n",
       "  <tbody>\n",
       "    <tr>\n",
       "      <th>0</th>\n",
       "      <td>15/9-13</td>\n",
       "      <td>494.5280</td>\n",
       "      <td>437641.96875</td>\n",
       "      <td>6470972.5</td>\n",
       "      <td>-469.501831</td>\n",
       "      <td>NORDLAND GP.</td>\n",
       "      <td>NaN</td>\n",
       "      <td>19.480835</td>\n",
       "      <td>NaN</td>\n",
       "      <td>1.611410</td>\n",
       "      <td>...</td>\n",
       "      <td>34.636410</td>\n",
       "      <td>NaN</td>\n",
       "      <td>NaN</td>\n",
       "      <td>-0.574928</td>\n",
       "      <td>NaN</td>\n",
       "      <td>NaN</td>\n",
       "      <td>NaN</td>\n",
       "      <td>NaN</td>\n",
       "      <td>65000</td>\n",
       "      <td>1.0</td>\n",
       "    </tr>\n",
       "    <tr>\n",
       "      <th>1</th>\n",
       "      <td>15/9-13</td>\n",
       "      <td>494.6800</td>\n",
       "      <td>437641.96875</td>\n",
       "      <td>6470972.5</td>\n",
       "      <td>-469.653809</td>\n",
       "      <td>NORDLAND GP.</td>\n",
       "      <td>NaN</td>\n",
       "      <td>19.468800</td>\n",
       "      <td>NaN</td>\n",
       "      <td>1.618070</td>\n",
       "      <td>...</td>\n",
       "      <td>34.636410</td>\n",
       "      <td>NaN</td>\n",
       "      <td>NaN</td>\n",
       "      <td>-0.570188</td>\n",
       "      <td>NaN</td>\n",
       "      <td>NaN</td>\n",
       "      <td>NaN</td>\n",
       "      <td>NaN</td>\n",
       "      <td>65000</td>\n",
       "      <td>1.0</td>\n",
       "    </tr>\n",
       "    <tr>\n",
       "      <th>2</th>\n",
       "      <td>15/9-13</td>\n",
       "      <td>494.8320</td>\n",
       "      <td>437641.96875</td>\n",
       "      <td>6470972.5</td>\n",
       "      <td>-469.805786</td>\n",
       "      <td>NORDLAND GP.</td>\n",
       "      <td>NaN</td>\n",
       "      <td>19.468800</td>\n",
       "      <td>NaN</td>\n",
       "      <td>1.626459</td>\n",
       "      <td>...</td>\n",
       "      <td>34.779556</td>\n",
       "      <td>NaN</td>\n",
       "      <td>NaN</td>\n",
       "      <td>-0.574245</td>\n",
       "      <td>NaN</td>\n",
       "      <td>NaN</td>\n",
       "      <td>NaN</td>\n",
       "      <td>NaN</td>\n",
       "      <td>65000</td>\n",
       "      <td>1.0</td>\n",
       "    </tr>\n",
       "    <tr>\n",
       "      <th>3</th>\n",
       "      <td>15/9-13</td>\n",
       "      <td>494.9840</td>\n",
       "      <td>437641.96875</td>\n",
       "      <td>6470972.5</td>\n",
       "      <td>-469.957794</td>\n",
       "      <td>NORDLAND GP.</td>\n",
       "      <td>NaN</td>\n",
       "      <td>19.459282</td>\n",
       "      <td>NaN</td>\n",
       "      <td>1.621594</td>\n",
       "      <td>...</td>\n",
       "      <td>39.965164</td>\n",
       "      <td>NaN</td>\n",
       "      <td>NaN</td>\n",
       "      <td>-0.586315</td>\n",
       "      <td>NaN</td>\n",
       "      <td>NaN</td>\n",
       "      <td>NaN</td>\n",
       "      <td>NaN</td>\n",
       "      <td>65000</td>\n",
       "      <td>1.0</td>\n",
       "    </tr>\n",
       "    <tr>\n",
       "      <th>4</th>\n",
       "      <td>15/9-13</td>\n",
       "      <td>495.1360</td>\n",
       "      <td>437641.96875</td>\n",
       "      <td>6470972.5</td>\n",
       "      <td>-470.109772</td>\n",
       "      <td>NORDLAND GP.</td>\n",
       "      <td>NaN</td>\n",
       "      <td>19.453100</td>\n",
       "      <td>NaN</td>\n",
       "      <td>1.602679</td>\n",
       "      <td>...</td>\n",
       "      <td>57.483765</td>\n",
       "      <td>NaN</td>\n",
       "      <td>NaN</td>\n",
       "      <td>-0.597914</td>\n",
       "      <td>NaN</td>\n",
       "      <td>NaN</td>\n",
       "      <td>NaN</td>\n",
       "      <td>NaN</td>\n",
       "      <td>65000</td>\n",
       "      <td>1.0</td>\n",
       "    </tr>\n",
       "    <tr>\n",
       "      <th>...</th>\n",
       "      <td>...</td>\n",
       "      <td>...</td>\n",
       "      <td>...</td>\n",
       "      <td>...</td>\n",
       "      <td>...</td>\n",
       "      <td>...</td>\n",
       "      <td>...</td>\n",
       "      <td>...</td>\n",
       "      <td>...</td>\n",
       "      <td>...</td>\n",
       "      <td>...</td>\n",
       "      <td>...</td>\n",
       "      <td>...</td>\n",
       "      <td>...</td>\n",
       "      <td>...</td>\n",
       "      <td>...</td>\n",
       "      <td>...</td>\n",
       "      <td>...</td>\n",
       "      <td>...</td>\n",
       "      <td>...</td>\n",
       "      <td>...</td>\n",
       "    </tr>\n",
       "    <tr>\n",
       "      <th>1170506</th>\n",
       "      <td>7/1-2 S</td>\n",
       "      <td>3169.3124</td>\n",
       "      <td>NaN</td>\n",
       "      <td>NaN</td>\n",
       "      <td>NaN</td>\n",
       "      <td>VESTLAND GP.</td>\n",
       "      <td>Bryne Fm.</td>\n",
       "      <td>8.423170</td>\n",
       "      <td>NaN</td>\n",
       "      <td>NaN</td>\n",
       "      <td>...</td>\n",
       "      <td>27.674368</td>\n",
       "      <td>NaN</td>\n",
       "      <td>NaN</td>\n",
       "      <td>-0.001763</td>\n",
       "      <td>NaN</td>\n",
       "      <td>NaN</td>\n",
       "      <td>26.673708</td>\n",
       "      <td>NaN</td>\n",
       "      <td>30000</td>\n",
       "      <td>2.0</td>\n",
       "    </tr>\n",
       "    <tr>\n",
       "      <th>1170507</th>\n",
       "      <td>7/1-2 S</td>\n",
       "      <td>3169.4644</td>\n",
       "      <td>NaN</td>\n",
       "      <td>NaN</td>\n",
       "      <td>NaN</td>\n",
       "      <td>VESTLAND GP.</td>\n",
       "      <td>Bryne Fm.</td>\n",
       "      <td>8.379244</td>\n",
       "      <td>NaN</td>\n",
       "      <td>NaN</td>\n",
       "      <td>...</td>\n",
       "      <td>28.024338</td>\n",
       "      <td>NaN</td>\n",
       "      <td>NaN</td>\n",
       "      <td>-0.007600</td>\n",
       "      <td>NaN</td>\n",
       "      <td>NaN</td>\n",
       "      <td>26.840818</td>\n",
       "      <td>NaN</td>\n",
       "      <td>65030</td>\n",
       "      <td>2.0</td>\n",
       "    </tr>\n",
       "    <tr>\n",
       "      <th>1170508</th>\n",
       "      <td>7/1-2 S</td>\n",
       "      <td>3169.6164</td>\n",
       "      <td>NaN</td>\n",
       "      <td>NaN</td>\n",
       "      <td>NaN</td>\n",
       "      <td>VESTLAND GP.</td>\n",
       "      <td>Bryne Fm.</td>\n",
       "      <td>8.350248</td>\n",
       "      <td>NaN</td>\n",
       "      <td>NaN</td>\n",
       "      <td>...</td>\n",
       "      <td>28.091282</td>\n",
       "      <td>NaN</td>\n",
       "      <td>NaN</td>\n",
       "      <td>-0.018297</td>\n",
       "      <td>NaN</td>\n",
       "      <td>NaN</td>\n",
       "      <td>27.007942</td>\n",
       "      <td>NaN</td>\n",
       "      <td>65030</td>\n",
       "      <td>2.0</td>\n",
       "    </tr>\n",
       "    <tr>\n",
       "      <th>1170509</th>\n",
       "      <td>7/1-2 S</td>\n",
       "      <td>3169.7684</td>\n",
       "      <td>NaN</td>\n",
       "      <td>NaN</td>\n",
       "      <td>NaN</td>\n",
       "      <td>VESTLAND GP.</td>\n",
       "      <td>Bryne Fm.</td>\n",
       "      <td>8.313779</td>\n",
       "      <td>NaN</td>\n",
       "      <td>NaN</td>\n",
       "      <td>...</td>\n",
       "      <td>28.019775</td>\n",
       "      <td>NaN</td>\n",
       "      <td>NaN</td>\n",
       "      <td>-0.011438</td>\n",
       "      <td>NaN</td>\n",
       "      <td>NaN</td>\n",
       "      <td>27.175179</td>\n",
       "      <td>NaN</td>\n",
       "      <td>65030</td>\n",
       "      <td>2.0</td>\n",
       "    </tr>\n",
       "    <tr>\n",
       "      <th>1170510</th>\n",
       "      <td>7/1-2 S</td>\n",
       "      <td>3169.9204</td>\n",
       "      <td>NaN</td>\n",
       "      <td>NaN</td>\n",
       "      <td>NaN</td>\n",
       "      <td>VESTLAND GP.</td>\n",
       "      <td>Bryne Fm.</td>\n",
       "      <td>8.294910</td>\n",
       "      <td>NaN</td>\n",
       "      <td>NaN</td>\n",
       "      <td>...</td>\n",
       "      <td>25.985943</td>\n",
       "      <td>NaN</td>\n",
       "      <td>NaN</td>\n",
       "      <td>-0.011398</td>\n",
       "      <td>NaN</td>\n",
       "      <td>NaN</td>\n",
       "      <td>27.342442</td>\n",
       "      <td>NaN</td>\n",
       "      <td>65030</td>\n",
       "      <td>2.0</td>\n",
       "    </tr>\n",
       "  </tbody>\n",
       "</table>\n",
       "<p>1170511 rows × 29 columns</p>\n",
       "</div>"
      ],
      "text/plain": [
       "            WELL   DEPTH_MD         X_LOC      Y_LOC       Z_LOC  \\\n",
       "0        15/9-13   494.5280  437641.96875  6470972.5 -469.501831   \n",
       "1        15/9-13   494.6800  437641.96875  6470972.5 -469.653809   \n",
       "2        15/9-13   494.8320  437641.96875  6470972.5 -469.805786   \n",
       "3        15/9-13   494.9840  437641.96875  6470972.5 -469.957794   \n",
       "4        15/9-13   495.1360  437641.96875  6470972.5 -470.109772   \n",
       "...          ...        ...           ...        ...         ...   \n",
       "1170506  7/1-2 S  3169.3124           NaN        NaN         NaN   \n",
       "1170507  7/1-2 S  3169.4644           NaN        NaN         NaN   \n",
       "1170508  7/1-2 S  3169.6164           NaN        NaN         NaN   \n",
       "1170509  7/1-2 S  3169.7684           NaN        NaN         NaN   \n",
       "1170510  7/1-2 S  3169.9204           NaN        NaN         NaN   \n",
       "\n",
       "                GROUP  FORMATION       CALI  RSHA      RMED  ...        ROP  \\\n",
       "0        NORDLAND GP.        NaN  19.480835   NaN  1.611410  ...  34.636410   \n",
       "1        NORDLAND GP.        NaN  19.468800   NaN  1.618070  ...  34.636410   \n",
       "2        NORDLAND GP.        NaN  19.468800   NaN  1.626459  ...  34.779556   \n",
       "3        NORDLAND GP.        NaN  19.459282   NaN  1.621594  ...  39.965164   \n",
       "4        NORDLAND GP.        NaN  19.453100   NaN  1.602679  ...  57.483765   \n",
       "...               ...        ...        ...   ...       ...  ...        ...   \n",
       "1170506  VESTLAND GP.  Bryne Fm.   8.423170   NaN       NaN  ...  27.674368   \n",
       "1170507  VESTLAND GP.  Bryne Fm.   8.379244   NaN       NaN  ...  28.024338   \n",
       "1170508  VESTLAND GP.  Bryne Fm.   8.350248   NaN       NaN  ...  28.091282   \n",
       "1170509  VESTLAND GP.  Bryne Fm.   8.313779   NaN       NaN  ...  28.019775   \n",
       "1170510  VESTLAND GP.  Bryne Fm.   8.294910   NaN       NaN  ...  25.985943   \n",
       "\n",
       "         DTS  DCAL      DRHO  MUDWEIGHT  RMIC       ROPA  RXO  \\\n",
       "0        NaN   NaN -0.574928        NaN   NaN        NaN  NaN   \n",
       "1        NaN   NaN -0.570188        NaN   NaN        NaN  NaN   \n",
       "2        NaN   NaN -0.574245        NaN   NaN        NaN  NaN   \n",
       "3        NaN   NaN -0.586315        NaN   NaN        NaN  NaN   \n",
       "4        NaN   NaN -0.597914        NaN   NaN        NaN  NaN   \n",
       "...      ...   ...       ...        ...   ...        ...  ...   \n",
       "1170506  NaN   NaN -0.001763        NaN   NaN  26.673708  NaN   \n",
       "1170507  NaN   NaN -0.007600        NaN   NaN  26.840818  NaN   \n",
       "1170508  NaN   NaN -0.018297        NaN   NaN  27.007942  NaN   \n",
       "1170509  NaN   NaN -0.011438        NaN   NaN  27.175179  NaN   \n",
       "1170510  NaN   NaN -0.011398        NaN   NaN  27.342442  NaN   \n",
       "\n",
       "         FORCE_2020_LITHOFACIES_LITHOLOGY  FORCE_2020_LITHOFACIES_CONFIDENCE  \n",
       "0                                   65000                                1.0  \n",
       "1                                   65000                                1.0  \n",
       "2                                   65000                                1.0  \n",
       "3                                   65000                                1.0  \n",
       "4                                   65000                                1.0  \n",
       "...                                   ...                                ...  \n",
       "1170506                             30000                                2.0  \n",
       "1170507                             65030                                2.0  \n",
       "1170508                             65030                                2.0  \n",
       "1170509                             65030                                2.0  \n",
       "1170510                             65030                                2.0  \n",
       "\n",
       "[1170511 rows x 29 columns]"
      ]
     },
     "execution_count": 4,
     "metadata": {},
     "output_type": "execute_result"
    }
   ],
   "source": [
    "data = pd.read_csv('../CSV/Norwey data.csv', sep=';')\n",
    "data"
   ]
  },
  {
   "cell_type": "markdown",
   "metadata": {
    "id": "asTmwSFnhk_R"
   },
   "source": [
    "We are interested in 20 features from CALI to RXO. Let's sclice data"
   ]
  },
  {
   "cell_type": "code",
   "execution_count": 5,
   "metadata": {
    "colab": {
     "base_uri": "https://localhost:8080/",
     "height": 424
    },
    "id": "dYjkfwi6CTCi",
    "outputId": "ed6621c8-8cc0-438d-a8f0-e3509c27f943"
   },
   "outputs": [
    {
     "data": {
      "text/html": [
       "<div>\n",
       "<style scoped>\n",
       "    .dataframe tbody tr th:only-of-type {\n",
       "        vertical-align: middle;\n",
       "    }\n",
       "\n",
       "    .dataframe tbody tr th {\n",
       "        vertical-align: top;\n",
       "    }\n",
       "\n",
       "    .dataframe thead th {\n",
       "        text-align: right;\n",
       "    }\n",
       "</style>\n",
       "<table border=\"1\" class=\"dataframe\">\n",
       "  <thead>\n",
       "    <tr style=\"text-align: right;\">\n",
       "      <th></th>\n",
       "      <th>CALI</th>\n",
       "      <th>RSHA</th>\n",
       "      <th>RMED</th>\n",
       "      <th>RDEP</th>\n",
       "      <th>RHOB</th>\n",
       "      <th>GR</th>\n",
       "      <th>SGR</th>\n",
       "      <th>NPHI</th>\n",
       "      <th>PEF</th>\n",
       "      <th>DTC</th>\n",
       "      <th>SP</th>\n",
       "      <th>BS</th>\n",
       "      <th>ROP</th>\n",
       "      <th>DTS</th>\n",
       "      <th>DCAL</th>\n",
       "      <th>DRHO</th>\n",
       "      <th>MUDWEIGHT</th>\n",
       "      <th>RMIC</th>\n",
       "      <th>ROPA</th>\n",
       "      <th>RXO</th>\n",
       "    </tr>\n",
       "  </thead>\n",
       "  <tbody>\n",
       "    <tr>\n",
       "      <th>0</th>\n",
       "      <td>19.480835</td>\n",
       "      <td>NaN</td>\n",
       "      <td>1.611410</td>\n",
       "      <td>1.798681</td>\n",
       "      <td>1.884186</td>\n",
       "      <td>80.200851</td>\n",
       "      <td>NaN</td>\n",
       "      <td>NaN</td>\n",
       "      <td>20.915468</td>\n",
       "      <td>161.131180</td>\n",
       "      <td>24.612379</td>\n",
       "      <td>NaN</td>\n",
       "      <td>34.636410</td>\n",
       "      <td>NaN</td>\n",
       "      <td>NaN</td>\n",
       "      <td>-0.574928</td>\n",
       "      <td>NaN</td>\n",
       "      <td>NaN</td>\n",
       "      <td>NaN</td>\n",
       "      <td>NaN</td>\n",
       "    </tr>\n",
       "    <tr>\n",
       "      <th>1</th>\n",
       "      <td>19.468800</td>\n",
       "      <td>NaN</td>\n",
       "      <td>1.618070</td>\n",
       "      <td>1.795641</td>\n",
       "      <td>1.889794</td>\n",
       "      <td>79.262886</td>\n",
       "      <td>NaN</td>\n",
       "      <td>NaN</td>\n",
       "      <td>19.383013</td>\n",
       "      <td>160.603470</td>\n",
       "      <td>23.895531</td>\n",
       "      <td>NaN</td>\n",
       "      <td>34.636410</td>\n",
       "      <td>NaN</td>\n",
       "      <td>NaN</td>\n",
       "      <td>-0.570188</td>\n",
       "      <td>NaN</td>\n",
       "      <td>NaN</td>\n",
       "      <td>NaN</td>\n",
       "      <td>NaN</td>\n",
       "    </tr>\n",
       "    <tr>\n",
       "      <th>2</th>\n",
       "      <td>19.468800</td>\n",
       "      <td>NaN</td>\n",
       "      <td>1.626459</td>\n",
       "      <td>1.800733</td>\n",
       "      <td>1.896523</td>\n",
       "      <td>74.821999</td>\n",
       "      <td>NaN</td>\n",
       "      <td>NaN</td>\n",
       "      <td>22.591518</td>\n",
       "      <td>160.173615</td>\n",
       "      <td>23.916357</td>\n",
       "      <td>NaN</td>\n",
       "      <td>34.779556</td>\n",
       "      <td>NaN</td>\n",
       "      <td>NaN</td>\n",
       "      <td>-0.574245</td>\n",
       "      <td>NaN</td>\n",
       "      <td>NaN</td>\n",
       "      <td>NaN</td>\n",
       "      <td>NaN</td>\n",
       "    </tr>\n",
       "    <tr>\n",
       "      <th>3</th>\n",
       "      <td>19.459282</td>\n",
       "      <td>NaN</td>\n",
       "      <td>1.621594</td>\n",
       "      <td>1.801517</td>\n",
       "      <td>1.891913</td>\n",
       "      <td>72.878922</td>\n",
       "      <td>NaN</td>\n",
       "      <td>NaN</td>\n",
       "      <td>32.191910</td>\n",
       "      <td>160.149429</td>\n",
       "      <td>23.793688</td>\n",
       "      <td>NaN</td>\n",
       "      <td>39.965164</td>\n",
       "      <td>NaN</td>\n",
       "      <td>NaN</td>\n",
       "      <td>-0.586315</td>\n",
       "      <td>NaN</td>\n",
       "      <td>NaN</td>\n",
       "      <td>NaN</td>\n",
       "      <td>NaN</td>\n",
       "    </tr>\n",
       "    <tr>\n",
       "      <th>4</th>\n",
       "      <td>19.453100</td>\n",
       "      <td>NaN</td>\n",
       "      <td>1.602679</td>\n",
       "      <td>1.795299</td>\n",
       "      <td>1.880034</td>\n",
       "      <td>71.729141</td>\n",
       "      <td>NaN</td>\n",
       "      <td>NaN</td>\n",
       "      <td>38.495632</td>\n",
       "      <td>160.128342</td>\n",
       "      <td>24.104078</td>\n",
       "      <td>NaN</td>\n",
       "      <td>57.483765</td>\n",
       "      <td>NaN</td>\n",
       "      <td>NaN</td>\n",
       "      <td>-0.597914</td>\n",
       "      <td>NaN</td>\n",
       "      <td>NaN</td>\n",
       "      <td>NaN</td>\n",
       "      <td>NaN</td>\n",
       "    </tr>\n",
       "    <tr>\n",
       "      <th>...</th>\n",
       "      <td>...</td>\n",
       "      <td>...</td>\n",
       "      <td>...</td>\n",
       "      <td>...</td>\n",
       "      <td>...</td>\n",
       "      <td>...</td>\n",
       "      <td>...</td>\n",
       "      <td>...</td>\n",
       "      <td>...</td>\n",
       "      <td>...</td>\n",
       "      <td>...</td>\n",
       "      <td>...</td>\n",
       "      <td>...</td>\n",
       "      <td>...</td>\n",
       "      <td>...</td>\n",
       "      <td>...</td>\n",
       "      <td>...</td>\n",
       "      <td>...</td>\n",
       "      <td>...</td>\n",
       "      <td>...</td>\n",
       "    </tr>\n",
       "    <tr>\n",
       "      <th>1170506</th>\n",
       "      <td>8.423170</td>\n",
       "      <td>NaN</td>\n",
       "      <td>NaN</td>\n",
       "      <td>NaN</td>\n",
       "      <td>2.527984</td>\n",
       "      <td>77.654900</td>\n",
       "      <td>NaN</td>\n",
       "      <td>NaN</td>\n",
       "      <td>4.586425</td>\n",
       "      <td>NaN</td>\n",
       "      <td>NaN</td>\n",
       "      <td>8.5</td>\n",
       "      <td>27.674368</td>\n",
       "      <td>NaN</td>\n",
       "      <td>NaN</td>\n",
       "      <td>-0.001763</td>\n",
       "      <td>NaN</td>\n",
       "      <td>NaN</td>\n",
       "      <td>26.673708</td>\n",
       "      <td>NaN</td>\n",
       "    </tr>\n",
       "    <tr>\n",
       "      <th>1170507</th>\n",
       "      <td>8.379244</td>\n",
       "      <td>NaN</td>\n",
       "      <td>NaN</td>\n",
       "      <td>NaN</td>\n",
       "      <td>2.537613</td>\n",
       "      <td>75.363937</td>\n",
       "      <td>NaN</td>\n",
       "      <td>NaN</td>\n",
       "      <td>7.019858</td>\n",
       "      <td>NaN</td>\n",
       "      <td>NaN</td>\n",
       "      <td>8.5</td>\n",
       "      <td>28.024338</td>\n",
       "      <td>NaN</td>\n",
       "      <td>NaN</td>\n",
       "      <td>-0.007600</td>\n",
       "      <td>NaN</td>\n",
       "      <td>NaN</td>\n",
       "      <td>26.840818</td>\n",
       "      <td>NaN</td>\n",
       "    </tr>\n",
       "    <tr>\n",
       "      <th>1170508</th>\n",
       "      <td>8.350248</td>\n",
       "      <td>NaN</td>\n",
       "      <td>NaN</td>\n",
       "      <td>NaN</td>\n",
       "      <td>2.491860</td>\n",
       "      <td>66.452843</td>\n",
       "      <td>NaN</td>\n",
       "      <td>NaN</td>\n",
       "      <td>9.049782</td>\n",
       "      <td>NaN</td>\n",
       "      <td>NaN</td>\n",
       "      <td>8.5</td>\n",
       "      <td>28.091282</td>\n",
       "      <td>NaN</td>\n",
       "      <td>NaN</td>\n",
       "      <td>-0.018297</td>\n",
       "      <td>NaN</td>\n",
       "      <td>NaN</td>\n",
       "      <td>27.007942</td>\n",
       "      <td>NaN</td>\n",
       "    </tr>\n",
       "    <tr>\n",
       "      <th>1170509</th>\n",
       "      <td>8.313779</td>\n",
       "      <td>NaN</td>\n",
       "      <td>NaN</td>\n",
       "      <td>NaN</td>\n",
       "      <td>2.447539</td>\n",
       "      <td>55.784817</td>\n",
       "      <td>NaN</td>\n",
       "      <td>NaN</td>\n",
       "      <td>8.903917</td>\n",
       "      <td>NaN</td>\n",
       "      <td>NaN</td>\n",
       "      <td>8.5</td>\n",
       "      <td>28.019775</td>\n",
       "      <td>NaN</td>\n",
       "      <td>NaN</td>\n",
       "      <td>-0.011438</td>\n",
       "      <td>NaN</td>\n",
       "      <td>NaN</td>\n",
       "      <td>27.175179</td>\n",
       "      <td>NaN</td>\n",
       "    </tr>\n",
       "    <tr>\n",
       "      <th>1170510</th>\n",
       "      <td>8.294910</td>\n",
       "      <td>NaN</td>\n",
       "      <td>NaN</td>\n",
       "      <td>NaN</td>\n",
       "      <td>2.430716</td>\n",
       "      <td>48.432129</td>\n",
       "      <td>NaN</td>\n",
       "      <td>NaN</td>\n",
       "      <td>9.150043</td>\n",
       "      <td>NaN</td>\n",
       "      <td>NaN</td>\n",
       "      <td>8.5</td>\n",
       "      <td>25.985943</td>\n",
       "      <td>NaN</td>\n",
       "      <td>NaN</td>\n",
       "      <td>-0.011398</td>\n",
       "      <td>NaN</td>\n",
       "      <td>NaN</td>\n",
       "      <td>27.342442</td>\n",
       "      <td>NaN</td>\n",
       "    </tr>\n",
       "  </tbody>\n",
       "</table>\n",
       "<p>1170511 rows × 20 columns</p>\n",
       "</div>"
      ],
      "text/plain": [
       "              CALI  RSHA      RMED      RDEP      RHOB         GR  SGR  NPHI  \\\n",
       "0        19.480835   NaN  1.611410  1.798681  1.884186  80.200851  NaN   NaN   \n",
       "1        19.468800   NaN  1.618070  1.795641  1.889794  79.262886  NaN   NaN   \n",
       "2        19.468800   NaN  1.626459  1.800733  1.896523  74.821999  NaN   NaN   \n",
       "3        19.459282   NaN  1.621594  1.801517  1.891913  72.878922  NaN   NaN   \n",
       "4        19.453100   NaN  1.602679  1.795299  1.880034  71.729141  NaN   NaN   \n",
       "...            ...   ...       ...       ...       ...        ...  ...   ...   \n",
       "1170506   8.423170   NaN       NaN       NaN  2.527984  77.654900  NaN   NaN   \n",
       "1170507   8.379244   NaN       NaN       NaN  2.537613  75.363937  NaN   NaN   \n",
       "1170508   8.350248   NaN       NaN       NaN  2.491860  66.452843  NaN   NaN   \n",
       "1170509   8.313779   NaN       NaN       NaN  2.447539  55.784817  NaN   NaN   \n",
       "1170510   8.294910   NaN       NaN       NaN  2.430716  48.432129  NaN   NaN   \n",
       "\n",
       "               PEF         DTC         SP   BS        ROP  DTS  DCAL  \\\n",
       "0        20.915468  161.131180  24.612379  NaN  34.636410  NaN   NaN   \n",
       "1        19.383013  160.603470  23.895531  NaN  34.636410  NaN   NaN   \n",
       "2        22.591518  160.173615  23.916357  NaN  34.779556  NaN   NaN   \n",
       "3        32.191910  160.149429  23.793688  NaN  39.965164  NaN   NaN   \n",
       "4        38.495632  160.128342  24.104078  NaN  57.483765  NaN   NaN   \n",
       "...            ...         ...        ...  ...        ...  ...   ...   \n",
       "1170506   4.586425         NaN        NaN  8.5  27.674368  NaN   NaN   \n",
       "1170507   7.019858         NaN        NaN  8.5  28.024338  NaN   NaN   \n",
       "1170508   9.049782         NaN        NaN  8.5  28.091282  NaN   NaN   \n",
       "1170509   8.903917         NaN        NaN  8.5  28.019775  NaN   NaN   \n",
       "1170510   9.150043         NaN        NaN  8.5  25.985943  NaN   NaN   \n",
       "\n",
       "             DRHO  MUDWEIGHT  RMIC       ROPA  RXO  \n",
       "0       -0.574928        NaN   NaN        NaN  NaN  \n",
       "1       -0.570188        NaN   NaN        NaN  NaN  \n",
       "2       -0.574245        NaN   NaN        NaN  NaN  \n",
       "3       -0.586315        NaN   NaN        NaN  NaN  \n",
       "4       -0.597914        NaN   NaN        NaN  NaN  \n",
       "...           ...        ...   ...        ...  ...  \n",
       "1170506 -0.001763        NaN   NaN  26.673708  NaN  \n",
       "1170507 -0.007600        NaN   NaN  26.840818  NaN  \n",
       "1170508 -0.018297        NaN   NaN  27.007942  NaN  \n",
       "1170509 -0.011438        NaN   NaN  27.175179  NaN  \n",
       "1170510 -0.011398        NaN   NaN  27.342442  NaN  \n",
       "\n",
       "[1170511 rows x 20 columns]"
      ]
     },
     "execution_count": 5,
     "metadata": {},
     "output_type": "execute_result"
    }
   ],
   "source": [
    "# Select featuresfrom data. We will use from \"CALI\" to \"RXO\"\n",
    "features = data.loc[:, \"CALI\":\"RXO\"]\n",
    "features"
   ]
  },
  {
   "cell_type": "markdown",
   "metadata": {
    "id": "ane174r1mR_o"
   },
   "source": [
    "We have 20 features and a population of 1,170,511"
   ]
  },
  {
   "cell_type": "code",
   "execution_count": 6,
   "metadata": {
    "colab": {
     "base_uri": "https://localhost:8080/",
     "height": 382
    },
    "id": "PNnCfPQlT0yK",
    "outputId": "6ce3eb40-ea6d-4965-eb9b-1950359a1512"
   },
   "outputs": [
    {
     "data": {
      "text/html": [
       "<div>\n",
       "<style scoped>\n",
       "    .dataframe tbody tr th:only-of-type {\n",
       "        vertical-align: middle;\n",
       "    }\n",
       "\n",
       "    .dataframe tbody tr th {\n",
       "        vertical-align: top;\n",
       "    }\n",
       "\n",
       "    .dataframe thead th {\n",
       "        text-align: right;\n",
       "    }\n",
       "</style>\n",
       "<table border=\"1\" class=\"dataframe\">\n",
       "  <thead>\n",
       "    <tr style=\"text-align: right;\">\n",
       "      <th></th>\n",
       "      <th>CALI</th>\n",
       "      <th>RSHA</th>\n",
       "      <th>RMED</th>\n",
       "      <th>RDEP</th>\n",
       "      <th>RHOB</th>\n",
       "      <th>GR</th>\n",
       "      <th>SGR</th>\n",
       "      <th>NPHI</th>\n",
       "      <th>PEF</th>\n",
       "      <th>DTC</th>\n",
       "      <th>SP</th>\n",
       "      <th>BS</th>\n",
       "      <th>ROP</th>\n",
       "      <th>DTS</th>\n",
       "      <th>DCAL</th>\n",
       "      <th>DRHO</th>\n",
       "      <th>MUDWEIGHT</th>\n",
       "      <th>RMIC</th>\n",
       "      <th>ROPA</th>\n",
       "      <th>RXO</th>\n",
       "    </tr>\n",
       "  </thead>\n",
       "  <tbody>\n",
       "    <tr>\n",
       "      <th>count</th>\n",
       "      <td>1.082634e+06</td>\n",
       "      <td>630650.000000</td>\n",
       "      <td>1.131518e+06</td>\n",
       "      <td>1.159496e+06</td>\n",
       "      <td>1.009242e+06</td>\n",
       "      <td>1.170511e+06</td>\n",
       "      <td>69353.000000</td>\n",
       "      <td>765409.000000</td>\n",
       "      <td>671692.000000</td>\n",
       "      <td>1.089648e+06</td>\n",
       "      <td>864247.000000</td>\n",
       "      <td>682657.000000</td>\n",
       "      <td>535071.000000</td>\n",
       "      <td>174613.000000</td>\n",
       "      <td>298833.000000</td>\n",
       "      <td>987857.000000</td>\n",
       "      <td>316151.000000</td>\n",
       "      <td>176160.000000</td>\n",
       "      <td>192325.000000</td>\n",
       "      <td>327427.000000</td>\n",
       "    </tr>\n",
       "    <tr>\n",
       "      <th>mean</th>\n",
       "      <td>1.318568e+01</td>\n",
       "      <td>10.694664</td>\n",
       "      <td>4.986978e+00</td>\n",
       "      <td>1.069103e+01</td>\n",
       "      <td>2.284987e+00</td>\n",
       "      <td>7.091370e+01</td>\n",
       "      <td>64.895910</td>\n",
       "      <td>0.331966</td>\n",
       "      <td>6.319719</td>\n",
       "      <td>1.133581e+02</td>\n",
       "      <td>60.033980</td>\n",
       "      <td>11.931432</td>\n",
       "      <td>137.367965</td>\n",
       "      <td>204.655019</td>\n",
       "      <td>1.223849</td>\n",
       "      <td>0.012196</td>\n",
       "      <td>1.216329</td>\n",
       "      <td>7.796809</td>\n",
       "      <td>23.505069</td>\n",
       "      <td>-95.779496</td>\n",
       "    </tr>\n",
       "    <tr>\n",
       "      <th>std</th>\n",
       "      <td>3.798907e+00</td>\n",
       "      <td>100.642597</td>\n",
       "      <td>5.467269e+01</td>\n",
       "      <td>1.139480e+02</td>\n",
       "      <td>2.532835e-01</td>\n",
       "      <td>3.423149e+01</td>\n",
       "      <td>38.435818</td>\n",
       "      <td>0.130483</td>\n",
       "      <td>10.955360</td>\n",
       "      <td>2.999050e+01</td>\n",
       "      <td>76.574359</td>\n",
       "      <td>3.330242</td>\n",
       "      <td>1539.383558</td>\n",
       "      <td>71.068461</td>\n",
       "      <td>54.372859</td>\n",
       "      <td>7.477798</td>\n",
       "      <td>10.180834</td>\n",
       "      <td>89.741807</td>\n",
       "      <td>22.632800</td>\n",
       "      <td>348.980030</td>\n",
       "    </tr>\n",
       "    <tr>\n",
       "      <th>min</th>\n",
       "      <td>2.344000e+00</td>\n",
       "      <td>0.000100</td>\n",
       "      <td>-8.418695e-03</td>\n",
       "      <td>3.170056e-02</td>\n",
       "      <td>7.209712e-01</td>\n",
       "      <td>1.092843e-01</td>\n",
       "      <td>-777.985962</td>\n",
       "      <td>-0.035822</td>\n",
       "      <td>0.099718</td>\n",
       "      <td>7.415132e+00</td>\n",
       "      <td>-999.000000</td>\n",
       "      <td>6.000000</td>\n",
       "      <td>-0.117977</td>\n",
       "      <td>69.163177</td>\n",
       "      <td>-12.215459</td>\n",
       "      <td>-7429.338867</td>\n",
       "      <td>0.125818</td>\n",
       "      <td>0.056586</td>\n",
       "      <td>-999.250122</td>\n",
       "      <td>-999.900024</td>\n",
       "    </tr>\n",
       "    <tr>\n",
       "      <th>25%</th>\n",
       "      <td>9.429712e+00</td>\n",
       "      <td>0.854120</td>\n",
       "      <td>9.140862e-01</td>\n",
       "      <td>9.102396e-01</td>\n",
       "      <td>2.092203e+00</td>\n",
       "      <td>4.762722e+01</td>\n",
       "      <td>42.962429</td>\n",
       "      <td>0.241365</td>\n",
       "      <td>3.414440</td>\n",
       "      <td>8.782584e+01</td>\n",
       "      <td>32.402981</td>\n",
       "      <td>8.500000</td>\n",
       "      <td>5.628000</td>\n",
       "      <td>155.936707</td>\n",
       "      <td>0.148438</td>\n",
       "      <td>-0.009253</td>\n",
       "      <td>0.143792</td>\n",
       "      <td>0.891272</td>\n",
       "      <td>11.281895</td>\n",
       "      <td>0.687681</td>\n",
       "    </tr>\n",
       "    <tr>\n",
       "      <th>50%</th>\n",
       "      <td>1.255575e+01</td>\n",
       "      <td>1.399020</td>\n",
       "      <td>1.443584e+00</td>\n",
       "      <td>1.439000e+00</td>\n",
       "      <td>2.321228e+00</td>\n",
       "      <td>6.836763e+01</td>\n",
       "      <td>69.562714</td>\n",
       "      <td>0.326800</td>\n",
       "      <td>4.313530</td>\n",
       "      <td>1.095852e+02</td>\n",
       "      <td>55.390942</td>\n",
       "      <td>12.250001</td>\n",
       "      <td>17.799999</td>\n",
       "      <td>188.200653</td>\n",
       "      <td>0.557320</td>\n",
       "      <td>0.001752</td>\n",
       "      <td>0.155774</td>\n",
       "      <td>1.967156</td>\n",
       "      <td>20.131153</td>\n",
       "      <td>1.366672</td>\n",
       "    </tr>\n",
       "    <tr>\n",
       "      <th>75%</th>\n",
       "      <td>1.671075e+01</td>\n",
       "      <td>3.099348</td>\n",
       "      <td>2.680930e+00</td>\n",
       "      <td>2.557220e+00</td>\n",
       "      <td>2.488580e+00</td>\n",
       "      <td>8.903551e+01</td>\n",
       "      <td>87.910156</td>\n",
       "      <td>0.422951</td>\n",
       "      <td>5.968794</td>\n",
       "      <td>1.407745e+02</td>\n",
       "      <td>83.393299</td>\n",
       "      <td>12.250001</td>\n",
       "      <td>34.812794</td>\n",
       "      <td>224.645081</td>\n",
       "      <td>1.299655</td>\n",
       "      <td>0.021702</td>\n",
       "      <td>1.168307</td>\n",
       "      <td>5.084564</td>\n",
       "      <td>31.138481</td>\n",
       "      <td>3.420790</td>\n",
       "    </tr>\n",
       "    <tr>\n",
       "      <th>max</th>\n",
       "      <td>2.827900e+01</td>\n",
       "      <td>2193.904541</td>\n",
       "      <td>1.988616e+03</td>\n",
       "      <td>1.999887e+03</td>\n",
       "      <td>3.457820e+00</td>\n",
       "      <td>1.076964e+03</td>\n",
       "      <td>963.608582</td>\n",
       "      <td>0.999570</td>\n",
       "      <td>383.129974</td>\n",
       "      <td>3.204789e+02</td>\n",
       "      <td>526.547302</td>\n",
       "      <td>26.000002</td>\n",
       "      <td>47015.125000</td>\n",
       "      <td>676.578125</td>\n",
       "      <td>10011.422852</td>\n",
       "      <td>2.836938</td>\n",
       "      <td>185.730927</td>\n",
       "      <td>10000.000000</td>\n",
       "      <td>742.797852</td>\n",
       "      <td>35930.671875</td>\n",
       "    </tr>\n",
       "  </tbody>\n",
       "</table>\n",
       "</div>"
      ],
      "text/plain": [
       "               CALI           RSHA          RMED          RDEP          RHOB  \\\n",
       "count  1.082634e+06  630650.000000  1.131518e+06  1.159496e+06  1.009242e+06   \n",
       "mean   1.318568e+01      10.694664  4.986978e+00  1.069103e+01  2.284987e+00   \n",
       "std    3.798907e+00     100.642597  5.467269e+01  1.139480e+02  2.532835e-01   \n",
       "min    2.344000e+00       0.000100 -8.418695e-03  3.170056e-02  7.209712e-01   \n",
       "25%    9.429712e+00       0.854120  9.140862e-01  9.102396e-01  2.092203e+00   \n",
       "50%    1.255575e+01       1.399020  1.443584e+00  1.439000e+00  2.321228e+00   \n",
       "75%    1.671075e+01       3.099348  2.680930e+00  2.557220e+00  2.488580e+00   \n",
       "max    2.827900e+01    2193.904541  1.988616e+03  1.999887e+03  3.457820e+00   \n",
       "\n",
       "                 GR           SGR           NPHI            PEF           DTC  \\\n",
       "count  1.170511e+06  69353.000000  765409.000000  671692.000000  1.089648e+06   \n",
       "mean   7.091370e+01     64.895910       0.331966       6.319719  1.133581e+02   \n",
       "std    3.423149e+01     38.435818       0.130483      10.955360  2.999050e+01   \n",
       "min    1.092843e-01   -777.985962      -0.035822       0.099718  7.415132e+00   \n",
       "25%    4.762722e+01     42.962429       0.241365       3.414440  8.782584e+01   \n",
       "50%    6.836763e+01     69.562714       0.326800       4.313530  1.095852e+02   \n",
       "75%    8.903551e+01     87.910156       0.422951       5.968794  1.407745e+02   \n",
       "max    1.076964e+03    963.608582       0.999570     383.129974  3.204789e+02   \n",
       "\n",
       "                  SP             BS            ROP            DTS  \\\n",
       "count  864247.000000  682657.000000  535071.000000  174613.000000   \n",
       "mean       60.033980      11.931432     137.367965     204.655019   \n",
       "std        76.574359       3.330242    1539.383558      71.068461   \n",
       "min      -999.000000       6.000000      -0.117977      69.163177   \n",
       "25%        32.402981       8.500000       5.628000     155.936707   \n",
       "50%        55.390942      12.250001      17.799999     188.200653   \n",
       "75%        83.393299      12.250001      34.812794     224.645081   \n",
       "max       526.547302      26.000002   47015.125000     676.578125   \n",
       "\n",
       "                DCAL           DRHO      MUDWEIGHT           RMIC  \\\n",
       "count  298833.000000  987857.000000  316151.000000  176160.000000   \n",
       "mean        1.223849       0.012196       1.216329       7.796809   \n",
       "std        54.372859       7.477798      10.180834      89.741807   \n",
       "min       -12.215459   -7429.338867       0.125818       0.056586   \n",
       "25%         0.148438      -0.009253       0.143792       0.891272   \n",
       "50%         0.557320       0.001752       0.155774       1.967156   \n",
       "75%         1.299655       0.021702       1.168307       5.084564   \n",
       "max     10011.422852       2.836938     185.730927   10000.000000   \n",
       "\n",
       "                ROPA            RXO  \n",
       "count  192325.000000  327427.000000  \n",
       "mean       23.505069     -95.779496  \n",
       "std        22.632800     348.980030  \n",
       "min      -999.250122    -999.900024  \n",
       "25%        11.281895       0.687681  \n",
       "50%        20.131153       1.366672  \n",
       "75%        31.138481       3.420790  \n",
       "max       742.797852   35930.671875  "
      ]
     },
     "execution_count": 6,
     "metadata": {},
     "output_type": "execute_result"
    }
   ],
   "source": [
    "features.describe()"
   ]
  },
  {
   "cell_type": "markdown",
   "metadata": {
    "id": "2jBSprm8bHPo"
   },
   "source": [
    "All features are numerical with difference in distribution. That's why we need normalization"
   ]
  },
  {
   "cell_type": "markdown",
   "metadata": {
    "id": "fuedZ7MY_fJW"
   },
   "source": [
    "**1. MISSING VALUES**"
   ]
  },
  {
   "cell_type": "code",
   "execution_count": 7,
   "metadata": {
    "colab": {
     "base_uri": "https://localhost:8080/",
     "height": 676
    },
    "id": "G1aHxjeZCTHy",
    "outputId": "4ba3f53e-b12f-4205-bb68-842de468b080"
   },
   "outputs": [
    {
     "data": {
      "image/png": "[encoded data removed]",
      "text/plain": [
       "<Figure size 1800x720 with 2 Axes>"
      ]
     },
     "metadata": {
      "needs_background": "light"
     },
     "output_type": "display_data"
    }
   ],
   "source": [
    "msno.matrix(features);"
   ]
  },
  {
   "cell_type": "code",
   "execution_count": 8,
   "metadata": {
    "colab": {
     "base_uri": "https://localhost:8080/"
    },
    "id": "gqp46-NQCTKi",
    "outputId": "78538615-c61c-498f-a171-a68b22fc0e07"
   },
   "outputs": [
    {
     "data": {
      "text/plain": [
       "SGR          94\n",
       "DTS          85\n",
       "RMIC         84\n",
       "ROPA         83\n",
       "DCAL         74\n",
       "RXO          72\n",
       "MUDWEIGHT    72\n",
       "ROP          54\n",
       "RSHA         46\n",
       "PEF          42\n",
       "BS           41\n",
       "NPHI         34\n",
       "SP           26\n",
       "DRHO         15\n",
       "RHOB         13\n",
       "CALI          7\n",
       "DTC           6\n",
       "RMED          3\n",
       "GR            0\n",
       "RDEP          0\n",
       "dtype: int32"
      ]
     },
     "execution_count": 8,
     "metadata": {},
     "output_type": "execute_result"
    }
   ],
   "source": [
    "# Percent of missing values in data\n",
    "features_entirety_pct = (features.isnull().sum()/features.shape[0]*100).astype('int').sort_values(ascending=False)\n",
    "features_entirety_pct"
   ]
  },
  {
   "cell_type": "markdown",
   "metadata": {
    "id": "khMjrsalClqL"
   },
   "source": [
    "We have huge amount of missing values up to 94%"
   ]
  },
  {
   "cell_type": "markdown",
   "metadata": {
    "id": "xlAfcB_p_3W1"
   },
   "source": [
    "**2. FEATURES CORELLATION**"
   ]
  },
  {
   "cell_type": "markdown",
   "metadata": {
    "id": "WvlGgFo1ii5K"
   },
   "source": [
    "Let's start with checking the correlation with target value:"
   ]
  },
  {
   "cell_type": "code",
   "execution_count": 9,
   "metadata": {
    "colab": {
     "base_uri": "https://localhost:8080/"
    },
    "id": "5XMwm17oAE2G",
    "outputId": "9c2a536b-71f0-4d25-e4ac-1048c4d71bb5"
   },
   "outputs": [
    {
     "data": {
      "text/plain": [
       "FORCE_2020_LITHOFACIES_LITHOLOGY    1.0\n",
       "Name: FORCE_2020_LITHOFACIES_LITHOLOGY, dtype: float64"
      ]
     },
     "execution_count": 9,
     "metadata": {},
     "output_type": "execute_result"
    }
   ],
   "source": [
    "features_n_target = features.join(data['FORCE_2020_LITHOFACIES_LITHOLOGY'])\n",
    "features_n_target_corellation = features_n_target.corr()\n",
    "\n",
    "#Correlation with output variable\n",
    "cor_with_target = abs(features_n_target_corellation[\"FORCE_2020_LITHOFACIES_LITHOLOGY\"])\n",
    "#Selecting highly correlated features\n",
    "relevant_features = cor_with_target[cor_with_target>0.5]\n",
    "relevant_features"
   ]
  },
  {
   "cell_type": "markdown",
   "metadata": {
    "id": "lRAZ2y4kCmjX"
   },
   "source": [
    "No features highly corellated with target value <br>\n",
    "We will create function that helps to estimate relative features"
   ]
  },
  {
   "cell_type": "code",
   "execution_count": 10,
   "metadata": {
    "id": "Ro0n0trpEsGA"
   },
   "outputs": [],
   "source": [
    "def handling_multicollinear_features(data, target_name: str) -> list:\n",
    "  features_to_remove = []\n",
    "  data_columns = data.columns.to_list()\n",
    "  features = data.drop(columns=[target_name])\n",
    "  features_n_target_corr = data.corr()\n",
    "  cor_target = abs(features_n_target_corr[target_name])\n",
    "  for col_name in features.columns:\n",
    "    cor_feature = abs(features_n_target_corr[col_name])\n",
    "    relevant_features = cor_feature[cor_feature > 0.5].drop(col_name)\n",
    "    if relevant_features.empty:\n",
    "      continue\n",
    "    feature_with_max_corr_with_target = cor_target[relevant_features.index].idxmax()\n",
    "    list_to_drop = relevant_features.index.to_list()\n",
    "    list_to_drop.remove(feature_with_max_corr_with_target)\n",
    "    \n",
    "    if feature_with_max_corr_with_target != col_name:\n",
    "      list_to_drop += [col_name]\n",
    "    features_to_remove += list_to_drop\n",
    "\n",
    "  return list(set(features_to_remove))"
   ]
  },
  {
   "cell_type": "code",
   "execution_count": 11,
   "metadata": {
    "colab": {
     "base_uri": "https://localhost:8080/"
    },
    "id": "4v3uJdC1UtmW",
    "outputId": "d12bc027-f44d-4175-b7f2-f48b984da6f7"
   },
   "outputs": [
    {
     "data": {
      "text/plain": [
       "['GR', 'DTC', 'DTS', 'RHOB', 'NPHI', 'BS', 'DCAL', 'CALI', 'SGR']"
      ]
     },
     "execution_count": 11,
     "metadata": {},
     "output_type": "execute_result"
    }
   ],
   "source": [
    "features_to_remove = handling_multicollinear_features(features_n_target, 'FORCE_2020_LITHOFACIES_LITHOLOGY')\n",
    "features_to_remove"
   ]
  },
  {
   "cell_type": "markdown",
   "metadata": {
    "id": "vDAho1JlPYG9"
   },
   "source": [
    "There are 9 highly corellated features with corr_values > 0.5"
   ]
  },
  {
   "cell_type": "code",
   "execution_count": 12,
   "metadata": {
    "colab": {
     "base_uri": "https://localhost:8080/"
    },
    "id": "tT_Bzjrwc2dU",
    "outputId": "376a5775-e690-4ad2-96c6-acf1f2feafd4"
   },
   "outputs": [
    {
     "data": {
      "text/plain": [
       "['RSHA',\n",
       " 'RMED',\n",
       " 'RDEP',\n",
       " 'PEF',\n",
       " 'SP',\n",
       " 'ROP',\n",
       " 'DRHO',\n",
       " 'MUDWEIGHT',\n",
       " 'RMIC',\n",
       " 'ROPA',\n",
       " 'RXO']"
      ]
     },
     "execution_count": 12,
     "metadata": {},
     "output_type": "execute_result"
    }
   ],
   "source": [
    "features_for_use = [el for el in features.columns if el not in features_to_remove]\n",
    "features_for_use"
   ]
  },
  {
   "cell_type": "markdown",
   "metadata": {
    "id": "oqbf_mGJ_sfd"
   },
   "source": [
    "**3. TARGET ANALYSIS**"
   ]
  },
  {
   "cell_type": "code",
   "execution_count": 13,
   "metadata": {
    "id": "gTGnTl8MCTFK"
   },
   "outputs": [
    {
     "data": {
      "text/plain": [
       "[30000,\n",
       " 65000,\n",
       " 65030,\n",
       " 70000,\n",
       " 70032,\n",
       " 74000,\n",
       " 80000,\n",
       " 86000,\n",
       " 88000,\n",
       " 90000,\n",
       " 93000,\n",
       " 99000]"
      ]
     },
     "execution_count": 13,
     "metadata": {},
     "output_type": "execute_result"
    }
   ],
   "source": [
    "# Target\n",
    "target = data['FORCE_2020_LITHOFACIES_LITHOLOGY']\n",
    "sorted(set(target))"
   ]
  },
  {
   "cell_type": "markdown",
   "metadata": {
    "id": "tOAmoUiJmznH"
   },
   "source": [
    "We can resume from the target that we have a task of multi-label classification. There are 12 classes"
   ]
  },
  {
   "cell_type": "code",
   "execution_count": 14,
   "metadata": {
    "id": "WmnZcMc7CTM0"
   },
   "outputs": [
    {
     "data": {
      "image/png": "[encoded data removed]",
      "text/plain": [
       "<Figure size 864x864 with 1 Axes>"
      ]
     },
     "metadata": {},
     "output_type": "display_data"
    }
   ],
   "source": [
    "target_values_count = target.value_counts()\n",
    "plt.figure(figsize = (12,12))\n",
    "plt.pie(target_values_count.values, labels=target_values_count.index, autopct='%1.1f%%')\n",
    "plt.title('Target distribution', fontsize = 25)\n",
    "plt.show()"
   ]
  },
  {
   "cell_type": "code",
   "execution_count": 15,
   "metadata": {
    "id": "ffxYWR5mWnNg"
   },
   "outputs": [
    {
     "data": {
      "text/plain": [
       "65000    720803\n",
       "30000    168937\n",
       "65030    150455\n",
       "70000     56320\n",
       "80000     33329\n",
       "99000     15245\n",
       "70032     10513\n",
       "88000      8213\n",
       "90000      3820\n",
       "74000      1688\n",
       "86000      1085\n",
       "93000       103\n",
       "Name: FORCE_2020_LITHOFACIES_LITHOLOGY, dtype: int64"
      ]
     },
     "execution_count": 15,
     "metadata": {},
     "output_type": "execute_result"
    }
   ],
   "source": [
    "target.value_counts()"
   ]
  },
  {
   "cell_type": "markdown",
   "metadata": {
    "id": "I0MTwg-cCtzr"
   },
   "source": [
    "We have a **high disbalance** of classes here. The biggest class exceeds the smallest one in about 7e3 and we have only 100 examples of minority class. With Confidence level of 95% and the Confidence Interval of 5 we need at least 384 examples of the smallest class to get any kind of meaningful result. Also we will use **Stratified Split by Labels** for train test splitting"
   ]
  },
  {
   "cell_type": "markdown",
   "metadata": {
    "id": "XeQDZLmzwrIY"
   },
   "source": [
    "There is possibility to implement the **oversampling technique** called **SMOTE** to increase the amount of data (for population of 1170511 we should get between 384 to 117051 examples of certain class). But in this case we have to keep the distribution of data in authentic state."
   ]
  },
  {
   "cell_type": "markdown",
   "metadata": {
    "id": "t9xZzeYQyTuF"
   },
   "source": [
    "Also we should answer **the question**: what for a metric to use? Is it important to have high accuracy for the smallest class prediction? Or is it ok to use the accuracy as metric? **Macro/Micro** metric depending on the task"
   ]
  },
  {
   "cell_type": "markdown",
   "metadata": {
    "id": "QsdKG0p62xud"
   },
   "source": [
    "**The next question** is how to process missing values in data? There are 3 most popular methods: removing NANs, replacing them with some value (mean value or -1) or to create a model which will fill gaps with values based on KNN technique or with using of NN. \n",
    "Methods 1 and 3 are not suitable in our situation when we have about 50% features missing 50% of data. Therefore, we will filling missing data with -1"
   ]
  },
  {
   "cell_type": "markdown",
   "metadata": {
    "id": "NZRgNjSb7nzt"
   },
   "source": [
    "As a model I suppose to use **Gradient Boosting from CatBoost**. It works great with chart data and has all benefits of Gradient Boosting technique"
   ]
  }
 ],
 "metadata": {
  "colab": {
   "collapsed_sections": [],
   "name": "Norwey Data Analysis.ipynb",
   "provenance": []
  },
  "kernelspec": {
   "display_name": "Python 3",
   "language": "python",
   "name": "python3"
  },
  "language_info": {
   "codemirror_mode": {
    "name": "ipython",
    "version": 3
   },
   "file_extension": ".py",
   "mimetype": "text/x-python",
   "name": "python",
   "nbconvert_exporter": "python",
   "pygments_lexer": "ipython3",
   "version": "3.8.8"
  }
 },
 "nbformat": 4,
 "nbformat_minor": 1
}
